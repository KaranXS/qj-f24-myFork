{
 "cells": [
  {
   "cell_type": "markdown",
   "metadata": {},
   "source": [
    "**Adapted from https://gist.github.com/kenjyco/69eeb503125035f21a9d**\n",
    "\n",
    "**Adapted again from https://github.com/bualpha/qa-f23/blob/main/programming-tutorials/crashcourse_numpy_pandas_pyplot.ipynb**  \n",
    "\n",
    "**Adapted again from https://github.com/bualpha/qj-s24/blob/main/lecture0_crashcourse.ipynb**"
   ]
  },
  {
   "cell_type": "markdown",
   "metadata": {},
   "source": [
    "## Quick note about Jupyter cells\n",
    "\n",
    "When you are editing a cell in Jupyter notebook, you need to re-run the cell by pressing **`<Shift> + <Enter>`**. This will allow changes you made to be available to other cells.\n",
    "\n",
    "Use **`<Enter>`** to make new lines inside a cell you are editing.\n",
    "\n",
    "#### Code cells\n",
    "\n",
    "Re-running will execute any statements you have written. To edit an existing code cell, click on it.\n",
    "\n",
    "#### Markdown cells\n",
    "\n",
    "Re-running will render the markdown text. To edit an existing markdown cell, double-click on it.\n",
    "\n",
    "<hr>"
   ]
  },
  {
   "cell_type": "markdown",
   "metadata": {},
   "source": [
    "## Common Jupyter operations\n",
    "\n",
    "#### Inserting and removing cells\n",
    "\n",
    "- Use the \"plus sign\" icon to insert a cell below the currently selected cell\n",
    "\n",
    "#### Clear the output of all cells\n",
    "\n",
    "- Use \"Kernel\" -> \"Restart\" from the menu to restart the kernel\n",
    "    - click on \"clear all outputs & restart\" to have all the output cleared\n",
    "\n",
    "<hr>"
   ]
  },
  {
   "cell_type": "markdown",
   "metadata": {},
   "source": [
    "## Tips and tricks for .ipynb and VSCode"
   ]
  },
  {
   "cell_type": "markdown",
   "metadata": {},
   "source": [
    "* Question mark after a command to bring up the documentaries that gives you info on what it does\n",
    "* To comment and uncomment blocks in Jupyter: **` 'CMD' + '/' `**\n",
    "* To indent or unindent blocks of code: **` CMD + '[' OR ']' `**\n",
    "* **` ESC + L `** to number each line of code\n",
    "* To select multiple occurrences of words and edit simultaneously in VSCode, highlight the word, press `CMD + D` and edit"
   ]
  },
  {
   "cell_type": "code",
   "execution_count": null,
   "metadata": {},
   "outputs": [],
   "source": [
    "def some_code(x, y):\n",
    "    \"\"\"\n",
    "    Comment the first three solutions out and fix indentation\n",
    "    \"\"\"\n",
    "        solution = x + y\n",
    "        solution = x - y\n",
    "        solution = x * y\n",
    "    solution = (x**2 + y**2)**0.5\n",
    "    return solution"
   ]
  },
  {
   "cell_type": "code",
   "execution_count": null,
   "metadata": {},
   "outputs": [],
   "source": [
    "# multiple variable assignments\n",
    "mean, std = 1, 2\n",
    "print(mean, std)"
   ]
  },
  {
   "cell_type": "markdown",
   "metadata": {},
   "source": [
    "## NumPy\n",
    "\n",
    "Great for simple numerical calculations and manipulating data structures like arrays and vectors."
   ]
  },
  {
   "cell_type": "markdown",
   "metadata": {
    "collapsed": true
   },
   "source": [
    "### Some methods on list objects\n",
    "\n",
    "- **`.append(item)`** to add a single item to the list\n",
    "- **`.extend([item1, item2, ...])`** to add multiple items to the list\n",
    "- **`.remove(item)`** to remove a single item from the list\n",
    "- **`.pop()`** to remove and return the item at the end of the list\n",
    "- **`.pop(index)`** to remove and return an item at an index"
   ]
  },
  {
   "cell_type": "code",
   "execution_count": null,
   "metadata": {},
   "outputs": [],
   "source": [
    "!pip install numpy"
   ]
  },
  {
   "cell_type": "code",
   "execution_count": null,
   "metadata": {},
   "outputs": [],
   "source": [
    "# Manipulating lists and arrays are important for playing around with any type of data\n",
    "\n",
    "import numpy as np\n",
    "\n",
    "array1 = np.array([0, 1, 2, 3, 4, 5])\n",
    "type(array1)\n",
    "# numpy arrays are really useful for vectorization and matrix operations"
   ]
  },
  {
   "cell_type": "code",
   "execution_count": null,
   "metadata": {},
   "outputs": [],
   "source": [
    "# f-strings are very useful for debugging and printing in general\n",
    "print(f'Array1 Before: {array1}')\n",
    "array1 = np.append(array1, 15) # append is a function\n",
    "print(f'Array1 After: {array1}')"
   ]
  },
  {
   "cell_type": "code",
   "execution_count": null,
   "metadata": {},
   "outputs": [],
   "source": [
    "list1 = list(range(5))\n",
    "print(f'list1 Before: {list1}')\n",
    "# list1.append(15) \n",
    "list1 = list1.append(15) # .append is a method, it does it to itself\n",
    "print(f'list1 After: {list1}')"
   ]
  },
  {
   "cell_type": "code",
   "execution_count": null,
   "metadata": {},
   "outputs": [],
   "source": [
    "# Queues - First in First Out (FIFO)\n",
    "list1 = list(range(5))\n",
    "print(f'list1 Before: {list1}')\n",
    "list1.pop(0)\n",
    "print(f'list1 After: {list1}')\n",
    "\n",
    "# append and pop(0) are great for turning your data structure into a Queue\n",
    "# Check out dequeues, great data structure for LeetCode questions\n",
    "# https://www.geeksforgeeks.org/deque-in-python/"
   ]
  },
  {
   "cell_type": "code",
   "execution_count": null,
   "metadata": {},
   "outputs": [],
   "source": [
    "ls = np.linspace(0, 100, 51) # notice the dtype is a float, you can change this in the linspace function parameters\n",
    "#np.arange()\n",
    "print(ls)\n",
    "print(type(ls))\n",
    "#?np.linspace"
   ]
  },
  {
   "cell_type": "code",
   "execution_count": null,
   "metadata": {},
   "outputs": [],
   "source": [
    "list2 = list(range(6))\n",
    "array2 = np.array([0, 1, 2, 3, 4, 5])\n",
    "\n",
    "print(f'list2 Before: {list2}')\n",
    "list2 = 2*list2\n",
    "print(f'list2 After: {list2}')\n",
    "\n",
    "print() ###################\n",
    "\n",
    "print(f'array2 Before: {array2}')\n",
    "array2 = 2*array2\n",
    "print(f'array2 After: {array2}')\n",
    "# this is why arrays are great for linear algebra and playing with data (matrices)"
   ]
  },
  {
   "cell_type": "code",
   "execution_count": null,
   "metadata": {},
   "outputs": [],
   "source": [
    "print(np.e, np.pi, np.sin(np.pi))\n",
    "\n",
    "# notice what np.sin(np.pi) returns, can you think why?"
   ]
  },
  {
   "cell_type": "markdown",
   "metadata": {},
   "source": [
    "## Matplotlib\n",
    "\n",
    "Great for making plots in Python. Typical plots include histograms, lineplots, and scatterplots."
   ]
  },
  {
   "cell_type": "code",
   "execution_count": null,
   "metadata": {},
   "outputs": [],
   "source": [
    "!pip install matplotlib"
   ]
  },
  {
   "cell_type": "code",
   "execution_count": 12,
   "metadata": {},
   "outputs": [],
   "source": [
    "from matplotlib import pyplot as plt\n",
    "# OR import matplotlib.pyplot as plt"
   ]
  },
  {
   "cell_type": "code",
   "execution_count": null,
   "metadata": {},
   "outputs": [],
   "source": [
    "x = np.linspace(0, 2 * np.pi, 400)\n",
    "y = np.sin(x) # transform x\n",
    "print(x[:10])"
   ]
  },
  {
   "cell_type": "code",
   "execution_count": null,
   "metadata": {},
   "outputs": [],
   "source": [
    "plt.figure()\n",
    "plt.plot(x, y)\n",
    "\n",
    "plt.xlabel(\"x\")\n",
    "plt.ylabel(\"y\")\n",
    "plt.title(\"y vs x\")"
   ]
  },
  {
   "cell_type": "code",
   "execution_count": null,
   "metadata": {},
   "outputs": [],
   "source": [
    "fig, axs = plt.subplots(2)\n",
    "fig.suptitle('Vertically stacked subplots')\n",
    "axs[0].plot(x, y)\n",
    "axs[1].plot(x, -y)"
   ]
  },
  {
   "cell_type": "code",
   "execution_count": 16,
   "metadata": {},
   "outputs": [],
   "source": [
    "# Plot, labels, and legends\n",
    "# might have to use plt.show() if plots not showing"
   ]
  },
  {
   "cell_type": "code",
   "execution_count": null,
   "metadata": {},
   "outputs": [],
   "source": [
    "fig, (ax1, ax2) = plt.subplots(2, figsize = (5,5))\n",
    "fig.suptitle('Vertically stacked subplots')\n",
    "ax1.plot(x, y)\n",
    "ax2.plot(x, -y)"
   ]
  },
  {
   "cell_type": "code",
   "execution_count": null,
   "metadata": {},
   "outputs": [],
   "source": [
    "fig, (ax1, ax2) = plt.subplots(1, 2, figsize=(10,5))\n",
    "fig.suptitle('Horizontally stacked subplots')\n",
    "ax1.plot(x, y)\n",
    "ax2.plot(x, -y)"
   ]
  },
  {
   "cell_type": "code",
   "execution_count": null,
   "metadata": {},
   "outputs": [],
   "source": [
    "Z = np.random.normal(0, 1, 100)\n",
    "#plt.hist(Z, bins = 100)\n",
    "plt.scatter(Z, Z**2)"
   ]
  },
  {
   "cell_type": "markdown",
   "metadata": {},
   "source": [
    "## Pandas\n",
    "\n",
    "Great for reading data, manipulating data, preparing data."
   ]
  },
  {
   "cell_type": "code",
   "execution_count": null,
   "metadata": {},
   "outputs": [],
   "source": [
    "!pip install pandas"
   ]
  },
  {
   "cell_type": "code",
   "execution_count": null,
   "metadata": {},
   "outputs": [],
   "source": [
    "import pandas as pd\n",
    "\n",
    "# create some random data to example a stock price over time\n",
    "\n",
    "data = pd.DataFrame({\n",
    "    'time': np.linspace(0, 100, 100),\n",
    "    'price': np.random.normal(0, 1, 100)\n",
    "})\n",
    "data['price'] = data['price'].cumsum()\n",
    "\n",
    "data"
   ]
  },
  {
   "cell_type": "code",
   "execution_count": null,
   "metadata": {},
   "outputs": [],
   "source": [
    "data.head()\n",
    "# data.tail()"
   ]
  },
  {
   "cell_type": "code",
   "execution_count": null,
   "metadata": {},
   "outputs": [],
   "source": [
    "data.plot('time', 'price')"
   ]
  },
  {
   "cell_type": "markdown",
   "metadata": {},
   "source": [
    "## Real Stock Returns Example\n",
    "\n",
    "We can use yfinance to get stock data and calculate the daily returns of a stock."
   ]
  },
  {
   "cell_type": "code",
   "execution_count": null,
   "metadata": {},
   "outputs": [],
   "source": [
    "!pip install yfinance"
   ]
  },
  {
   "cell_type": "code",
   "execution_count": null,
   "metadata": {},
   "outputs": [],
   "source": [
    "import yfinance as yf\n",
    "# download data for SPY, a popular ETF that tracks the S&P 500\n",
    "spy_data = yf.download('SPY', start='2014-01-01', end='2024-01-01')\n",
    "spy_data"
   ]
  },
  {
   "cell_type": "code",
   "execution_count": null,
   "metadata": {},
   "outputs": [],
   "source": [
    "spy_data['daily_return'] = spy_data['Close'].pct_change()\n",
    "\n",
    "# make a histogram of the daily returns with a big figure size\n",
    "plt.figure(figsize=(20, 10))\n",
    "plt.hist(spy_data['daily_return'], bins=100)\n",
    "plt.show()"
   ]
  },
  {
   "cell_type": "markdown",
   "metadata": {},
   "source": [
    "## Resources\n",
    "\n",
    "1. https://www.learndatasci.com/tutorials/applied-introduction-to-numpy-python-tutorial/\n",
    "2. https://app.datacamp.com/learn\n",
    "3. https://queirozf.com/entries/pandas-dataframe-plot-examples-with-matplotlib-pyplot\n",
    "\n",
    "## Other libraries that are good to know\n",
    "\n",
    "1. `seaborn` for data visualization\n",
    "2. `sklearn / sci-kit learn` for machine learning\n",
    "3. `Tensorflow / PyTorch` for deep learning\n",
    "4. Any financial data library to extract data (`yfinance, openBB, etc.`)"
   ]
  },
  {
   "cell_type": "markdown",
   "metadata": {},
   "source": [
    "## Practice!"
   ]
  },
  {
   "cell_type": "markdown",
   "metadata": {},
   "source": [
    "1. Create an array of the first 10 prime numbers. Then write a python program to return the difference between its neighboring value ($n_{i+1} - n_{i}$). \n",
    "\n",
    "`Ex. [5, 9, 7] should return [4, -2]`\n",
    "\n",
    "2. Given a range of numbers (inclusive), return how many odd numbers there are.\n",
    "\n",
    "3. Create a 2D $n$ by $n$ array where only the border of the matrix is one, and the rest are 0s.\n",
    "\n",
    "4. Given a list of non repeating numbers, find the missing number.**\n",
    "\n",
    "**Let's try to use the libraries we just learned!**"
   ]
  },
  {
   "cell_type": "code",
   "execution_count": 46,
   "metadata": {},
   "outputs": [],
   "source": [
    "def primeDifference():\n",
    "    \"\"\" q1\n",
    "    [5, 9, 7] should return [4, -2]\n",
    "    \"\"\"\n",
    "    #create array\n",
    "    \n",
    "    # hint: you should try to code it first, but there is a function that specifically does this\n",
    "    # Stackoverflow, Google, ChatGPT are your best friends\n",
    "    \n",
    "    return \n",
    "\n",
    "primeDifference()"
   ]
  },
  {
   "cell_type": "code",
   "execution_count": 47,
   "metadata": {},
   "outputs": [],
   "source": [
    "def oddInRange(a, b):\n",
    "    \"\"\" q2\n",
    "    Given [a, b], return number of odds in that range ([a, b] inclusive)\n",
    "    Ex. [1, 4] should return 2. [0,4] returns 2. [10, 2003] returns 997. \n",
    "    \"\"\"\n",
    "    \n",
    "    return "
   ]
  },
  {
   "cell_type": "code",
   "execution_count": null,
   "metadata": {},
   "outputs": [],
   "source": [
    "def arrayBorder(n):\n",
    "    \"\"\" q3\n",
    "    Create a 2D n by n array where only the border of the matrix is one, and the rest are 0s.\n",
    "    \n",
    "    Hint: Many ways to do it, but for the sake of learning, use np.ones() and figure out what it does!\n",
    "    \"\"\"\n",
    "\n",
    "    return\n",
    "\n",
    "?np.ones"
   ]
  },
  {
   "cell_type": "code",
   "execution_count": 49,
   "metadata": {},
   "outputs": [],
   "source": [
    "def missingNumber(miss):\n",
    "    \"\"\" q4\n",
    "    Given a list of non repeating numbers, find the missing number.\n",
    "    [1,2,4] returns 3\n",
    "    [3,2,1,7,5,6] returns 4 \n",
    "    Hint: there is a really elegant way to do this - try to come up with it!\n",
    "    \"\"\"\n",
    "    \n",
    "    return"
   ]
  },
  {
   "cell_type": "markdown",
   "metadata": {},
   "source": [
    "5. Two Sum: Classic LeetCode\n",
    "\n",
    "https://leetcode.com/problems/two-sum/\n",
    "\n",
    "Top data structures to know:\n",
    "* Queues\n",
    "* Stacks\n",
    "* Hashmap (Dictionary)\n",
    "* Dequeues"
   ]
  },
  {
   "cell_type": "markdown",
   "metadata": {},
   "source": [
    "### Simulating Application Question:\n",
    "Imagine you are managing a fund which has two trading strategies. \n",
    "\n",
    "\n",
    "Strategy A: 50% of the time you lose 20% of your investment, and the rest of the time you gain 50% on your investment.\n",
    "Strategy B: 90% of the time you lose 5% of your investment, and the rest of the time you gain 195% on your investment.\n",
    "\n",
    "\n",
    "Which strategy should you use? Please explain with relevant statistical concepts in a few (~2-5) sentences.\n",
    "\n",
    "This question has some openendedness to it. "
   ]
  },
  {
   "cell_type": "code",
   "execution_count": null,
   "metadata": {},
   "outputs": [],
   "source": [
    "# let's calculate the expected value and variance for each strategy\n",
    "# FOR A SINGLE TRIAL\n",
    "strategy_a_ev = 0.5 * 0.8 + 0.5 * 1.5\n",
    "strategy_a_var = 0.5 * (0.8 - strategy_a_ev)**2 + 0.5 * (1.5 - strategy_a_ev)**2\n",
    "print(f\"Strategy A: EV = {strategy_a_ev}, Var = {strategy_a_var}\")\n",
    "\n",
    "strategy_b_ev = 0.9 * 0.95 + 0.1 * 2.95\n",
    "strategy_b_var = 0.9 * (0.95 - strategy_b_ev)**2 + 0.1 * (2.95 - strategy_b_ev)**2\n",
    "print(f\"Strategy B: EV = {strategy_b_ev}, Var = {strategy_b_var}\")\n"
   ]
  },
  {
   "cell_type": "markdown",
   "metadata": {},
   "source": [
    "### But how about multiple days/executions of the strategy? What happens? More on this in upcoming lectures:"
   ]
  },
  {
   "cell_type": "code",
   "execution_count": null,
   "metadata": {},
   "outputs": [],
   "source": [
    "# let's simulate trials\n",
    "n_trials = 10000\n",
    "n_days = 30\n",
    "strategy_a_results = []\n",
    "strategy_a_all_returns = []\n",
    "strategy_b_results = []\n",
    "strategy_b_all_returns = []\n",
    "\n",
    "for i in range(n_trials):\n",
    "    strategy_a_returns = [1]\n",
    "    strategy_b_returns = [1]\n",
    "    for j in range(n_days):\n",
    "        strategy_a_returns.append(\n",
    "            strategy_a_returns[-1] * np.random.choice([0.8, 1.5], p=[0.5, 0.5]))\n",
    "        \n",
    "        strategy_b_returns.append(\n",
    "            strategy_b_returns[-1] * np.random.choice([0.95, 2.95], p=[0.9, 0.1]))\n",
    "\n",
    "    strategy_a_results.append(strategy_a_returns)\n",
    "    strategy_b_results.append(strategy_b_returns)\n",
    "    strategy_a_all_returns.append(strategy_a_returns[-1])\n",
    "    strategy_b_all_returns.append(strategy_b_returns[-1])\n",
    "\n",
    "# calculate average final returns\n",
    "strategy_a_avg = np.mean(strategy_a_all_returns)\n",
    "strategy_b_avg = np.mean(strategy_b_all_returns)\n",
    "\n",
    "# output results\n",
    "print(f\"Strategy A: Average final return = {strategy_a_avg}\")\n",
    "print(f\"Strategy B: Average final return = {strategy_b_avg}\")\n",
    "# median\n",
    "print(f\"Strategy A: Median final return = {np.median(strategy_a_all_returns)}\")\n",
    "print(f\"Strategy B: Median final return = {np.median(strategy_b_all_returns)}\")\n",
    "# histograms\n",
    "plt.figure(figsize=(20, 10))\n",
    "plt.hist(strategy_a_all_returns, bins=100, label='Strategy A')\n",
    "# plt.hist(strategy_b_all_returns, bins=50, alpha=0.5, label='Strategy B')\n",
    "plt.legend()\n",
    "plt.show()\n",
    "\n",
    "plt.figure(figsize=(20, 10))\n",
    "# plt.hist(strategy_a_all_returns, bins=50, alpha=0.5, label='Strategy A')\n",
    "plt.hist(strategy_b_all_returns, bins=100, label='Strategy B')\n",
    "plt.legend()\n",
    "plt.show()"
   ]
  },
  {
   "cell_type": "code",
   "execution_count": null,
   "metadata": {},
   "outputs": [],
   "source": [
    "# histogram for bottom 50% of returns\n",
    "plt.figure(figsize=(20, 10))\n",
    "plt.hist(sorted(strategy_a_all_returns)[:n_trials//2], bins=100, label='Strategy A')\n",
    "plt.hist(sorted(strategy_b_all_returns)[:n_trials//2], bins=100, label='Strategy B')\n",
    "plt.legend()\n",
    "plt.show()"
   ]
  },
  {
   "cell_type": "code",
   "execution_count": null,
   "metadata": {},
   "outputs": [],
   "source": [
    "# plot 10 trials\n",
    "plt.figure(figsize=(20, 10))\n",
    "for i in range(4):\n",
    "    plt.plot(strategy_a_results[i], label=f\"Trial A {i}\")\n",
    "    plt.plot(strategy_b_results[i], label=f\"Trial B {i}\")\n",
    "plt.title(\"Strategy A&B Returns\")\n",
    "plt.legend()"
   ]
  },
  {
   "cell_type": "markdown",
   "metadata": {},
   "source": [
    "Now for you to implement:\n",
    "1. What if we don't use 100% of our buying power each trial? (eg: we now gain/lose 50% of the change)\n",
    "2. What happens if we can execute Strategy B twice as often as Strategy A? Three times? etc.\n",
    "3. Create histograms of the various returns.\n",
    "4. Calculate sharpe and sortino ratio.\n",
    "5. Plot median returns, average returns, etc.\n",
    "6. What percent of Strategy A and B trials go below some threshold, say 0.50? What might this say?\n"
   ]
  }
 ],
 "metadata": {
  "kernelspec": {
   "display_name": "Python 3",
   "language": "python",
   "name": "python3"
  },
  "language_info": {
   "codemirror_mode": {
    "name": "ipython",
    "version": 3
   },
   "file_extension": ".py",
   "mimetype": "text/x-python",
   "name": "python",
   "nbconvert_exporter": "python",
   "pygments_lexer": "ipython3",
   "version": "3.9.13"
  }
 },
 "nbformat": 4,
 "nbformat_minor": 1
}
